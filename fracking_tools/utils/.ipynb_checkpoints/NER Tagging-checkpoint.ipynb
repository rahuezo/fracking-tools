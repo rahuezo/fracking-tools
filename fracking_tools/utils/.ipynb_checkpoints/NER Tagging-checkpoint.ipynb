{
 "cells": [
  {
   "cell_type": "code",
   "execution_count": 1,
   "metadata": {
    "collapsed": true
   },
   "outputs": [],
   "source": []
  },
  {
   "cell_type": "code",
   "execution_count": null,
   "metadata": {
    "collapsed": true
   },
   "outputs": [],
   "source": []
  },
  {
   "cell_type": "code",
   "execution_count": 1,
   "metadata": {
    "collapsed": true
   },
   "outputs": [],
   "source": [
    "test_str = [(u'Far', u'O'), (u'far', u'O'), (u'away,', u'O'), (u'behind', u'O'), (u'the', u'O'), (u'word', u'O'), (u'mountains,', u'O'), (u'far', u'O'), (u'from', u'O'), (u'the', u'O'), (u'countries', u'O'), (u'Vokalia', u'LOCATION'), (u'and', u'O'), (u'Consonantia,', u'O'), (u'there', u'O'), (u'live', u'O'), (u'the', u'O'), (u'blind', u'O'), (u'texts.', u'O'), (u'Separated', u'O'), (u'they', u'O'), (u'live', u'O'), (u'in', u'O'), (u'Bookmarksgrove', u'O'), (u'right', u'O'), (u'at', u'O'), (u'the', u'O'), (u'coast', u'O'), (u'of', u'O'), (u'the', u'O'), (u'Semantics,', u'O'), (u'a', u'O'), (u'large', u'O'), (u'language', u'O'), (u'ocean.', u'O'), (u'A', u'O'), (u'small', u'O'), (u'river', u'O'), (u'named', u'O'), (u'Duden', u'PERSON'), (u'flows', u'O'), (u'by', u'O'), (u'their', u'O'), (u'place', u'O'), (u'and', u'O'), (u'supplies', u'O'), (u'it', u'O'), (u'with', u'O'), (u'the', u'O'), (u'necessary', u'O'), (u'regelialia.', u'O'), (u'It', u'O'), (u'is', u'O'), (u'a', u'O'), (u'paradisematic', u'O'), (u'country,', u'O'), (u'in', u'O'), (u'which', u'O'), (u'roasted', u'O'), (u'parts', u'O'), (u'of', u'O'), (u'sentences', u'O'), (u'fly', u'O'), (u'into', u'O'), (u'your', u'O'), (u'mouth.', u'O'), (u'Even', u'O'), (u'the', u'O'), (u'all-powerful', u'O'), (u'Pointing', u'O'), (u'has', u'O'), (u'no', u'O'), (u'control', u'O'), (u'about', u'O'), (u'the', u'O'), (u'blind', u'O'), (u'texts', u'O'), (u'it', u'O'), (u'is', u'O'), (u'an', u'O'), (u'almost', u'O'), (u'unorthographic', u'O'), (u'life', u'O'), (u'One', u'O'), (u'day', u'O'), (u'however', u'O'), (u'a', u'O'), (u'small', u'O'), (u'line', u'O'), (u'of', u'O'), (u'blind', u'O'), (u'text', u'O'), (u'by', u'O'), (u'the', u'O'), (u'name', u'O'), (u'of', u'O'), (u'Lorem', u'ORGANIZATION'), (u'Ipsum', u'ORGANIZATION'), (u'decided', u'O'), (u'to', u'O'), (u'leave', u'O'), (u'for', u'O'), (u'the', u'O'), (u'far', u'O'), (u'World', u'O'), (u'of', u'O'), (u'Grammar.', u'O'), (u'The', u'O'), (u'Big', u'O'), (u'Oxmox', u'O'), (u'advised', u'O'), (u'her', u'O'), (u'not', u'O'), (u'to', u'O'), (u'do', u'O'), (u'so,', u'O'), (u'because', u'O'), (u'there', u'O'), (u'were', u'O'), (u'thousands', u'O'), (u'of', u'O'), (u'bad', u'O'), (u'Commas,', u'O'), (u'wild', u'O'), (u'Question', u'O'), (u'Marks', u'O'), (u'and', u'O'), (u'devious', u'O'), (u'Semikoli,', u'O'), (u'but', u'O'), (u'the', u'O'), (u'Little', u'O'), (u'Blind', u'O'), (u'Text', u'O'), (u'didn\\u2019t', u'O'), (u'listen.', u'O'), (u'She', u'O'), (u'packed', u'O'), (u'her', u'O'), (u'seven', u'O'), (u'versalia,', u'O'), (u'put', u'O'), (u'her', u'O'), (u'initial', u'O'), (u'into', u'O'), (u'the', u'O'), (u'belt', u'O'), (u'and', u'O'), (u'made', u'O'), (u'herself', u'O'), (u'on', u'O'), (u'the', u'O'), (u'way.', u'O'), (u'When', u'O'), (u'she', u'O'), (u'reached', u'O'), (u'the', u'O'), (u'first', u'O'), (u'hills', u'O'), (u'of', u'O'), (u'the', u'O'), (u'Italic', u'O'), (u'Mountains,', u'O'), (u'she', u'O'), (u'had', u'O'), (u'a', u'O'), (u'last', u'O'), (u'view', u'O'), (u'back', u'O'), (u'on', u'O'), (u'the', u'O'), (u'skyline', u'O'), (u'of', u'O'), (u'her', u'O'), (u'hometown', u'O'), (u'Bookmarksgrove,', u'O'), (u'the', u'O'), (u'headline', u'O'), (u'of', u'O'), (u'Alphabet', u'O'), (u'Village', u'O'), (u'and', u'O'), (u'the', u'O'), (u'subline', u'O'), (u'of', u'O'), (u'her', u'O'), (u'own', u'O'), (u'road,', u'O'), (u'the', u'O'), (u'Line', u'O'), (u'Lane.', u'O'), (u'Pityful', u'O'), (u'a', u'O'), (u'rethoric', u'O'), (u'question', u'O'), (u'ran', u'O'), (u'over', u'O'), (u'her', u'O'), (u'cheek,', u'O'), (u'then', u'O')]"
   ]
  },
  {
   "cell_type": "code",
   "execution_count": 2,
   "metadata": {},
   "outputs": [
    {
     "name": "stdout",
     "output_type": "stream",
     "text": [
      "Far far away, behind the word mountains, far from the countries <LOCATION>Vokalia</LOCATION> and Consonantia, there live the blind texts. Separated they live in Bookmarksgrove right at the coast of the Semantics, a large language ocean. A small river named <PERSON>Duden</PERSON> flows by their place and supplies it with the necessary regelialia. It is a paradisematic country, in which roasted parts of sentences fly into your mouth. Even the all-powerful Pointing has no control about the blind texts it is an almost unorthographic life One day however a small line of blind text by the name of <ORGANIZATION>Lorem Ipsum</ORGANIZATION> decided to leave for the far World of Grammar. The Big Oxmox advised her not to do so, because there were thousands of bad Commas, wild Question Marks and devious Semikoli, but the Little Blind Text didn’t listen. She packed her seven versalia, put her initial into the belt and made herself on the way. When she reached the first hills of the Italic Mountains, she had a last view back on the skyline of her hometown Bookmarksgrove, the headline of Alphabet Village and the subline of her own road, the Line Lane. Pityful a rethoric question ran over her cheek, then\n"
     ]
    }
   ],
   "source": [
    "from itertools import groupby\n",
    "\n",
    "output = [(u'I', u'O'), (u'studied', u'O'), (u'physics', u'O'), (u'at', u'O'), (u'UC', u'ORGANIZATION'), (u'Davis', u'ORGANIZATION'), (u'in', u'O'), (u'Davis,', u'O'), (u'CA', u'O'), (u'back', u'O'), (u'in', u'O'), (u'September', u'DATE'), (u'23,', u'DATE'), (u'2012', u'DATE')]\n",
    "    \n",
    "def tagged_str(parts): \n",
    "    def join_groups(gs):\n",
    "        result = ''\n",
    "        for g in gs: \n",
    "            flag = g[0][1]\n",
    "            if flag == 'O': \n",
    "                result += ' '.join([i[0] for i in g])\n",
    "            else: \n",
    "                result += ' <{f}>{words}</{f}> '.format(f=flag, words=' '.join([i[0] for i in g]))\n",
    "        return result\n",
    "    results = []\n",
    "    tab = 0     \n",
    "    for group in [list(j) for i, j in groupby([i[1] for i in parts])]: \n",
    "        results.append(parts[tab:len(group) + tab])\n",
    "        tab += len(group)        \n",
    "    return join_groups(results)\n",
    "    \n",
    "    \n",
    "print tagged_str(test_str)"
   ]
  },
  {
   "cell_type": "code",
   "execution_count": null,
   "metadata": {
    "collapsed": true
   },
   "outputs": [],
   "source": [
    "\n"
   ]
  },
  {
   "cell_type": "code",
   "execution_count": null,
   "metadata": {
    "collapsed": true
   },
   "outputs": [],
   "source": []
  }
 ],
 "metadata": {
  "kernelspec": {
   "display_name": "Python 2",
   "language": "python",
   "name": "python2"
  },
  "language_info": {
   "codemirror_mode": {
    "name": "ipython",
    "version": 2
   },
   "file_extension": ".py",
   "mimetype": "text/x-python",
   "name": "python",
   "nbconvert_exporter": "python",
   "pygments_lexer": "ipython2",
   "version": "2.7.13"
  }
 },
 "nbformat": 4,
 "nbformat_minor": 2
}
